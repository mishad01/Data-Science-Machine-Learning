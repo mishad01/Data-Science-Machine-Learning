{
  "nbformat": 4,
  "nbformat_minor": 0,
  "metadata": {
    "colab": {
      "provenance": [],
      "authorship_tag": "ABX9TyO+gpgOXWFBcGTdgQf+j8gx",
      "include_colab_link": true
    },
    "kernelspec": {
      "name": "python3",
      "display_name": "Python 3"
    },
    "language_info": {
      "name": "python"
    }
  },
  "cells": [
    {
      "cell_type": "markdown",
      "metadata": {
        "id": "view-in-github",
        "colab_type": "text"
      },
      "source": [
        "<a href=\"https://colab.research.google.com/github/mishad01/Data-Science-Machine-Learning/blob/main/Pattern%20Recognition/patternt_lab_1_2_(Label_Encoder).ipynb\" target=\"_parent\"><img src=\"https://colab.research.google.com/assets/colab-badge.svg\" alt=\"Open In Colab\"/></a>"
      ]
    },
    {
      "cell_type": "markdown",
      "source": [
        "A **Label Encoder** is a tool used in **machine learning** to convert categorical data (non-numeric values) into numerical format so that algorithms can understand and process it effectively. Many machine learning models require numerical input, and label encoding helps bridge the gap by mapping each category to a unique integer.\n",
        "\n",
        "---\n",
        "\n",
        "### How It Works\n",
        "For example, suppose you have a column with colors:\n",
        "```\n",
        "Red, Blue, Green, Red, Blue\n",
        "```\n",
        "Using **Label Encoding**, these categories could be mapped as:\n",
        "```\n",
        "Red → 2  \n",
        "Blue → 0  \n",
        "Green → 1  \n",
        "```\n",
        "The transformed column would look like:\n",
        "```\n",
        "2, 0, 1, 2, 0\n",
        "```\n",
        "\n",
        "---\n",
        "\n",
        "### Advantages\n",
        "- Simple and efficient transformation.\n",
        "- Useful when there is an **ordinal relationship** between categories (like \"Low\", \"Medium\", \"High\").\n",
        "\n",
        "### Disadvantages\n",
        "- Introduces **unintended ordinal relationships** when none exist (e.g., mapping \"Apple\" to 0 and \"Banana\" to 1 implies that \"Banana\" is somehow greater than \"Apple\").\n",
        "  \n",
        "### Alternatives\n",
        "If your categorical values have no inherent order, it's better to use **One-Hot Encoding**, which creates binary columns for each category.\n",
        "\n",
        "---\n",
        "\n",
        "### Implementation in Python (using Scikit-learn)\n",
        "```python\n",
        "from sklearn.preprocessing import LabelEncoder\n",
        "\n",
        "# Sample data\n",
        "data = ['Red', 'Blue', 'Green', 'Red', 'Blue']\n",
        "\n",
        "# Create and fit the encoder\n",
        "encoder = LabelEncoder()\n",
        "encoded_data = encoder.fit_transform(data)\n",
        "\n",
        "print(encoded_data)\n",
        "# Output: [2, 0, 1, 2, 0]\n",
        "\n",
        "# Mapping back to original labels\n",
        "decoded_data = encoder.inverse_transform(encoded_data)\n",
        "print(decoded_data)\n",
        "```\n",
        "\n",
        "Would you like help choosing between Label Encoding or One-Hot Encoding for a project you're working on?"
      ],
      "metadata": {
        "id": "2yn0hLmAVNNV"
      }
    },
    {
      "cell_type": "markdown",
      "source": [
        "\n",
        "\n",
        "```python\n",
        "import pandas as pd\n",
        "from sklearn import preprocessing\n",
        "\n",
        "# Sample DataFrame with categorical column 'Gender'\n",
        "data = {'Gender': ['Male', 'Female', 'Female', 'Male']}\n",
        "df = pd.DataFrame(data)\n",
        "\n",
        "# Initialize the LabelEncoder\n",
        "lab_encoder = preprocessing.LabelEncoder()\n",
        "\n",
        "# Apply label encoding\n",
        "df['Gender'] = lab_encoder.fit_transform(df['Gender'])\n",
        "\n",
        "# Display the updated DataFrame\n",
        "print(df)\n",
        "```\n",
        "\n",
        "---\n",
        "\n",
        "### Output\n",
        "```\n",
        "   Gender\n",
        "0       1\n",
        "1       0\n",
        "2       0\n",
        "3       1\n",
        "```\n",
        "\n",
        "Here:\n",
        "- `Male` is encoded as **1**  \n",
        "- `Female` is encoded as **0**\n",
        "\n",
        "---\n",
        "\n",
        "### How It Works\n",
        "- `lab_encoder.fit_transform(df[col])` transforms the `Gender` column by assigning a number to each category.\n",
        "- The transformation is stored back in the original DataFrame (`df[col] = ...`).\n",
        "\n",
        "---\n",
        "\n",
        "### Why Use a Loop?\n",
        "If you have multiple categorical columns, your current code (`for col in col_cat`) will handle all of them efficiently. For instance:\n",
        "\n",
        "```python\n",
        "col_cat = ['Gender', 'Occupation']\n",
        "```\n",
        "\n",
        "In such a case, the loop will apply label encoding to both columns.\n",
        "\n",
        "---\n",
        "\n",
        "### Key Note\n",
        "Be cautious when using Label Encoding for columns like `Gender`. For non-ordinal categories (like `Fruit` or `Color`), consider **One-Hot Encoding** to avoid introducing artificial relationships."
      ],
      "metadata": {
        "id": "liwSjZPVVo8o"
      }
    },
    {
      "cell_type": "code",
      "source": [
        "import pandas as pd\n",
        "from sklearn import preprocessing\n",
        "\n",
        "# Sample DataFrame with categorical column 'Gender'\n",
        "data = {'Gender': ['Male', 'Female', 'Female', 'Male']}\n",
        "df = pd.DataFrame(data)\n",
        "\n",
        "# Initialize the LabelEncoder\n",
        "lab_encoder = preprocessing.LabelEncoder()\n",
        "\n",
        "# Apply label encoding\n",
        "df['Gender'] = lab_encoder.fit_transform(df['Gender'])\n",
        "\n",
        "# Display the updated DataFrame\n",
        "print(df)\n"
      ],
      "metadata": {
        "id": "aPhmaXGHWdsA"
      },
      "execution_count": null,
      "outputs": []
    },
    {
      "cell_type": "markdown",
      "source": [],
      "metadata": {
        "id": "Ut4hZhrLWVim"
      }
    }
  ]
}